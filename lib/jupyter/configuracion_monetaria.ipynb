{
 "cells": [
  {
   "cell_type": "code",
   "execution_count": 4,
   "id": "088b01fd",
   "metadata": {},
   "outputs": [
    {
     "ename": "FileNotFoundError",
     "evalue": "[Errno 2] No such file or directory: 'invfnl-firebase-adminsdk-fbsvc-a32638957a.json'",
     "output_type": "error",
     "traceback": [
      "\u001b[1;31m---------------------------------------------------------------------------\u001b[0m",
      "\u001b[1;31mFileNotFoundError\u001b[0m                         Traceback (most recent call last)",
      "Cell \u001b[1;32mIn[4], line 7\u001b[0m\n\u001b[0;32m      3\u001b[0m \u001b[38;5;28;01mfrom\u001b[39;00m\u001b[38;5;250m \u001b[39m\u001b[38;5;21;01mdatetime\u001b[39;00m\u001b[38;5;250m \u001b[39m\u001b[38;5;28;01mimport\u001b[39;00m datetime, timedelta\n\u001b[0;32m      5\u001b[0m json_path \u001b[38;5;241m=\u001b[39m \u001b[38;5;124m\"\u001b[39m\u001b[38;5;124minvfnl-firebase-adminsdk-fbsvc-a32638957a.json\u001b[39m\u001b[38;5;124m\"\u001b[39m  \u001b[38;5;66;03m# ruta local correcta\u001b[39;00m\n\u001b[1;32m----> 7\u001b[0m cred \u001b[38;5;241m=\u001b[39m \u001b[43mcredentials\u001b[49m\u001b[38;5;241;43m.\u001b[39;49m\u001b[43mCertificate\u001b[49m\u001b[43m(\u001b[49m\u001b[43mjson_path\u001b[49m\u001b[43m)\u001b[49m\n\u001b[0;32m      8\u001b[0m firebase_admin\u001b[38;5;241m.\u001b[39minitialize_app(cred, {\n\u001b[0;32m      9\u001b[0m     \u001b[38;5;124m\"\u001b[39m\u001b[38;5;124mdatabaseURL\u001b[39m\u001b[38;5;124m\"\u001b[39m: \u001b[38;5;124m\"\u001b[39m\u001b[38;5;124mhttps://invfnl-default-rtdb.firebaseio.com/\u001b[39m\u001b[38;5;124m\"\u001b[39m\n\u001b[0;32m     10\u001b[0m })\n\u001b[0;32m     12\u001b[0m datos_ganancia \u001b[38;5;241m=\u001b[39m {\n\u001b[0;32m     13\u001b[0m     \u001b[38;5;124m\"\u001b[39m\u001b[38;5;124mfecha_creacion\u001b[39m\u001b[38;5;124m\"\u001b[39m: datetime\u001b[38;5;241m.\u001b[39mnow()\u001b[38;5;241m.\u001b[39mstrftime(\u001b[38;5;124m\"\u001b[39m\u001b[38;5;124m%\u001b[39m\u001b[38;5;124mY-\u001b[39m\u001b[38;5;124m%\u001b[39m\u001b[38;5;124mm-\u001b[39m\u001b[38;5;132;01m%d\u001b[39;00m\u001b[38;5;124m\"\u001b[39m),\n\u001b[0;32m     14\u001b[0m     \u001b[38;5;124m\"\u001b[39m\u001b[38;5;124mfecha_meta\u001b[39m\u001b[38;5;124m\"\u001b[39m: (datetime\u001b[38;5;241m.\u001b[39mnow() \u001b[38;5;241m+\u001b[39m timedelta(days\u001b[38;5;241m=\u001b[39m\u001b[38;5;241m15\u001b[39m))\u001b[38;5;241m.\u001b[39mstrftime(\u001b[38;5;124m\"\u001b[39m\u001b[38;5;124m%\u001b[39m\u001b[38;5;124mY-\u001b[39m\u001b[38;5;124m%\u001b[39m\u001b[38;5;124mm-\u001b[39m\u001b[38;5;132;01m%d\u001b[39;00m\u001b[38;5;124m\"\u001b[39m),\n\u001b[1;32m   (...)\u001b[0m\n\u001b[0;32m     23\u001b[0m     \u001b[38;5;124m\"\u001b[39m\u001b[38;5;124mganancia_esperada\u001b[39m\u001b[38;5;124m\"\u001b[39m: \u001b[38;5;241m7200.0\u001b[39m\n\u001b[0;32m     24\u001b[0m }\n",
      "File \u001b[1;32mc:\\Users\\carlo\\AppData\\Local\\Programs\\Python\\Python313\\Lib\\site-packages\\firebase_admin\\credentials.py:97\u001b[0m, in \u001b[0;36mCertificate.__init__\u001b[1;34m(self, cert)\u001b[0m\n\u001b[0;32m     95\u001b[0m \u001b[38;5;28msuper\u001b[39m(Certificate, \u001b[38;5;28mself\u001b[39m)\u001b[38;5;241m.\u001b[39m\u001b[38;5;21m__init__\u001b[39m()\n\u001b[0;32m     96\u001b[0m \u001b[38;5;28;01mif\u001b[39;00m _is_file_path(cert):\n\u001b[1;32m---> 97\u001b[0m     \u001b[38;5;28;01mwith\u001b[39;00m \u001b[38;5;28;43mopen\u001b[39;49m\u001b[43m(\u001b[49m\u001b[43mcert\u001b[49m\u001b[43m)\u001b[49m \u001b[38;5;28;01mas\u001b[39;00m json_file:\n\u001b[0;32m     98\u001b[0m         json_data \u001b[38;5;241m=\u001b[39m json\u001b[38;5;241m.\u001b[39mload(json_file)\n\u001b[0;32m     99\u001b[0m \u001b[38;5;28;01melif\u001b[39;00m \u001b[38;5;28misinstance\u001b[39m(cert, \u001b[38;5;28mdict\u001b[39m):\n",
      "\u001b[1;31mFileNotFoundError\u001b[0m: [Errno 2] No such file or directory: 'invfnl-firebase-adminsdk-fbsvc-a32638957a.json'"
     ]
    }
   ],
   "source": [
    "import firebase_admin\n",
    "from firebase_admin import credentials, db\n",
    "from datetime import datetime, timedelta\n",
    "\n",
    "json_path = \"invfnl-firebase-adminsdk-fbsvc-a32638957a.json\"  # ruta local correcta\n",
    "\n",
    "cred = credentials.Certificate(json_path)\n",
    "firebase_admin.initialize_app(cred, {\n",
    "    \"databaseURL\": \"https://invfnl-default-rtdb.firebaseio.com/\"\n",
    "})\n",
    "\n",
    "datos_ganancia = {\n",
    "    \"fecha_creacion\": datetime.now().strftime(\"%Y-%m-%d\"),\n",
    "    \"fecha_meta\": (datetime.now() + timedelta(days=15)).strftime(\"%Y-%m-%d\"),\n",
    "    \"precio_agua_m3\": 25.0,\n",
    "    \"precio_luz_kwh\": 1.8,\n",
    "    \"precio_semilla\": 200.0,\n",
    "    \"costo_abono\": 10.0,\n",
    "    \"cantidad_sembrada\": 30,\n",
    "    \"precio_venta_unitario\": 300.0,\n",
    "    \"ahorro_estimado\": 150.0,\n",
    "    \"perdida_estimada\": 40.0,\n",
    "    \"ganancia_esperada\": 7200.0\n",
    "}\n",
    "\n",
    "ref = db.reference(\"ganancias\")\n",
    "nueva_entrada = ref.push(datos_ganancia)\n",
    "print(\"ID generado:\", nueva_entrada.key)\n"
   ]
  }
 ],
 "metadata": {
  "kernelspec": {
   "display_name": "Python 3",
   "language": "python",
   "name": "python3"
  },
  "language_info": {
   "codemirror_mode": {
    "name": "ipython",
    "version": 3
   },
   "file_extension": ".py",
   "mimetype": "text/x-python",
   "name": "python",
   "nbconvert_exporter": "python",
   "pygments_lexer": "ipython3",
   "version": "3.13.2"
  }
 },
 "nbformat": 4,
 "nbformat_minor": 5
}
